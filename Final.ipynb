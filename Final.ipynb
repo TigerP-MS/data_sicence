{
  "nbformat": 4,
  "nbformat_minor": 0,
  "metadata": {
    "colab": {
      "provenance": []
    },
    "kernelspec": {
      "name": "python3",
      "display_name": "Python 3"
    },
    "language_info": {
      "name": "python"
    }
  },
  "cells": [
    {
      "cell_type": "code",
      "execution_count": 66,
      "metadata": {
        "colab": {
          "base_uri": "https://localhost:8080/"
        },
        "id": "mBJdGML1kVBy",
        "outputId": "1c1bb3ce-905f-4890-a075-21c051d9cc87"
      },
      "outputs": [
        {
          "output_type": "stream",
          "name": "stdout",
          "text": [
            "Mounted at /content/drive\n"
          ]
        }
      ],
      "source": [
        "import pandas as pd\n",
        "import pickle\n",
        "import numpy as np\n",
        "from google.colab import drive\n",
        "from sklearn.model_selection import train_test_split\n",
        "from sklearn.feature_extraction.text import CountVectorizer\n",
        "from sklearn.ensemble import RandomForestClassifier\n",
        "from sklearn.metrics import accuracy_score\n",
        "from sklearn.preprocessing import LabelEncoder, MultiLabelBinarizer\n",
        "\n",
        "# Mount Google Drive\n",
        "drive.mount('/content/drive', force_remount=True)\n",
        "\n",
        "# Load the data from the pickled file\n",
        "file_path = '/content/drive/My Drive/synthetic_dataset/goal_set.p'\n",
        "with open(file_path, 'rb') as file:\n",
        "    consultation_data = pickle.load(file)\n",
        "\n",
        "test_data = consultation_data['test']\n"
      ]
    },
    {
      "cell_type": "code",
      "source": [
        "# Extract explicit and implicit symptoms along with their disease tags\n",
        "disease_tags = []\n",
        "explicit_symptoms_list = []\n",
        "implicit_symptoms_list = []\n",
        "\n",
        "for item in test_data:\n",
        "    disease_tags.append(item['disease_tag'])\n",
        "    explicit_symptoms = list(item['goal']['explicit_inform_slots'].keys())\n",
        "    implicit_symptoms = list(item['goal']['implicit_inform_slots'].keys())\n",
        "    explicit_symptoms_list.append(\", \".join(explicit_symptoms))\n",
        "    implicit_symptoms_list.append(\", \".join(implicit_symptoms))\n",
        "\n",
        "# Create DataFrame\n",
        "df = pd.DataFrame({\n",
        "    'Disease Tag': disease_tags,\n",
        "    'Explicit Symptoms': explicit_symptoms_list,\n",
        "    'Implicit Symptoms': implicit_symptoms_list\n",
        "})\n",
        "\n",
        "# Display the DataFrame\n",
        "print(df.head(10))\n"
      ],
      "metadata": {
        "colab": {
          "base_uri": "https://localhost:8080/"
        },
        "id": "tlFAid_lkfn9",
        "outputId": "deb7adf5-8da1-4f76-885c-b34906be1d9b"
      },
      "execution_count": 2,
      "outputs": [
        {
          "output_type": "stream",
          "name": "stdout",
          "text": [
            "                      Disease Tag                 Explicit Symptoms  \\\n",
            "0   Chondromalacia of the patella                         Knee pain   \n",
            "1           Chronic pain disorder                         Back pain   \n",
            "2  Diabetic peripheral neuropathy            Problems with movement   \n",
            "3         Conductive hearing loss                    Redness in ear   \n",
            "4         Endometrial hyperplasia              Heavy menstrual flow   \n",
            "5                 Decubitus ulcer                       Skin lesion   \n",
            "6             Epidural hemorrhage  Depressive or psychotic symptoms   \n",
            "7             Adjustment reaction                   Temper problems   \n",
            "8           Dissociative disorder           Anxiety and nervousness   \n",
            "9                       Gonorrhea                 Vaginal discharge   \n",
            "\n",
            "                                   Implicit Symptoms  \n",
            "0                                                     \n",
            "1                               Sharp abdominal pain  \n",
            "2                                                     \n",
            "3                          Ear pain, Low self-esteem  \n",
            "4  Unpredictable menstruation, Involuntary urination  \n",
            "5                                Difficulty speaking  \n",
            "6                                Back pain, Leg pain  \n",
            "7                                         Depression  \n",
            "8                                    Excessive anger  \n",
            "9            Sharp abdominal pain, Painful urination  \n"
          ]
        }
      ]
    },
    {
      "cell_type": "code",
      "source": [
        "# Define and train the Random Forest model\n",
        "X = df['Explicit Symptoms'] + \" \" + df['Implicit Symptoms']\n",
        "y = df['Disease Tag']\n",
        "\n",
        "label_encoder = LabelEncoder()\n",
        "y = label_encoder.fit_transform(y)\n",
        "\n",
        "# Split into train and test sets\n",
        "X_train, X_test, y_train, y_test = train_test_split(X, y, test_size=0.2, random_state=42)\n",
        "\n",
        "# Vectorize text data\n",
        "vectorizer = CountVectorizer()\n",
        "X_train = vectorizer.fit_transform(X_train)\n",
        "X_test = vectorizer.transform(X_test)\n",
        "\n",
        "# Train Random Forest model\n",
        "model = RandomForestClassifier(n_estimators=100, random_state=42)\n",
        "model.fit(X_train, y_train)\n",
        "y_pred = model.predict(X_test)\n",
        "accuracy = accuracy_score(y_test, y_pred)\n",
        "print(f\"Random Forest Accuracy: {accuracy:.2f}\")\n"
      ],
      "metadata": {
        "colab": {
          "base_uri": "https://localhost:8080/"
        },
        "id": "SszX3EElkkow",
        "outputId": "b4a7e911-6b0f-49eb-b15d-754112df84ab"
      },
      "execution_count": 4,
      "outputs": [
        {
          "output_type": "stream",
          "name": "stdout",
          "text": [
            "Random Forest Accuracy: 0.75\n"
          ]
        }
      ]
    },
    {
      "cell_type": "code",
      "source": [
        "# Define NDCG calculation functions\n",
        "def dcg_score(y_true, y_score, k=10):\n",
        "    order = np.argsort(y_score)[::-1]\n",
        "    y_true = np.take(y_true, order[:k])\n",
        "    gain = 2 ** y_true - 1\n",
        "    discounts = np.log2(np.arange(len(y_true)) + 2)\n",
        "    return np.sum(gain / discounts)\n",
        "\n",
        "def ndcg_score(y_true, y_score, k=10):\n",
        "    best = dcg_score(y_true, y_true, k)\n",
        "    actual = dcg_score(y_true, y_score, k)\n",
        "    return actual / best\n",
        "\n",
        "# Calculate NDCG for the model\n",
        "y_test_bin = MultiLabelBinarizer().fit_transform([[label] for label in y_test])\n",
        "y_score = model.predict_proba(X_test)\n",
        "\n",
        "ndcg_scores = [ndcg_score(y_test_bin[i], y_score[i], k=10) for i in range(len(y_test))]\n",
        "mean_ndcg = np.mean(ndcg_scores)\n",
        "print(f\"Random Forest NDCG@10: {mean_ndcg:.5f}\")\n"
      ],
      "metadata": {
        "colab": {
          "base_uri": "https://localhost:8080/"
        },
        "id": "hsGxja0UkusT",
        "outputId": "c205fc9e-1c0a-4e07-9a63-04c4b75c0ab7"
      },
      "execution_count": 5,
      "outputs": [
        {
          "output_type": "stream",
          "name": "stdout",
          "text": [
            "Random Forest NDCG@10: 0.86821\n"
          ]
        }
      ]
    },
    {
      "cell_type": "code",
      "source": [
        "# Initialize an empty dictionary to store the results\n",
        "callme = {}\n",
        "\n",
        "# Initialize an empty set to store the unique user input symptoms\n",
        "user_input_symptoms = set()\n",
        "\n",
        "# Symptom matching and disease prediction logic\n",
        "explicit_input = input(\"Enter explicit symptoms (comma-separated): \").strip().lower()\n",
        "input_explicit_symptoms = [symptom.strip() for symptom in explicit_input.split(',')]\n",
        "matching_symptoms = {}\n",
        "\n",
        "# Find all implicit symptoms associated with the input explicit symptoms\n",
        "for item in test_data:\n",
        "    explicit_info = item.get('goal', {}).get('explicit_inform_slots', {})\n",
        "    implicit_info = item.get('goal', {}).get('implicit_inform_slots', {})\n",
        "    disease_tag = item['disease_tag']\n",
        "    if any(symptom.lower() in [key.lower() for key in explicit_info] for symptom in input_explicit_symptoms):\n",
        "        matching_symptoms[disease_tag] = matching_symptoms.get(disease_tag, set())\n",
        "        matching_symptoms[disease_tag].update(implicit_info.keys())\n",
        "\n",
        "# Store matching implicit symptoms along with user's explicit symptoms for each disease in the 'callme' memory\n",
        "if matching_symptoms:\n",
        "    for disease_tag, implicit_symptoms in matching_symptoms.items():\n",
        "        for symptom in implicit_symptoms:\n",
        "            callme[(disease_tag, symptom)] = input_explicit_symptoms\n",
        "            # Add the user's input symptoms to the set\n",
        "            user_input_symptoms.update(input_explicit_symptoms)\n",
        "\n",
        "# Create a dictionary to store the user input symptoms only if it's not already added\n",
        "combined_symptoms = {}\n",
        "if user_input_symptoms:\n",
        "    combined_symptoms['User Input Symptoms'] = [symptom.split()[0] for symptom in user_input_symptoms]\n",
        "\n",
        "# Print the results\n",
        "if callme:\n",
        "    for (disease_tag, symptom), explicit_symptoms in callme.items():\n",
        "        print(f\"Disease: {disease_tag}, Symptom: {symptom}, Explicit Symptoms: {', '.join(explicit_symptoms)}\")\n",
        "else:\n",
        "    print(\"No matching implicit symptoms found.\")\n",
        "\n",
        "# Print the user input symptoms\n",
        "if user_input_symptoms:\n",
        "    print(\"User Input Symptoms:\", ', '.join(combined_symptoms['User Input Symptoms']))\n",
        "else:\n",
        "    print(\"No user input symptoms provided.\")\n"
      ],
      "metadata": {
        "colab": {
          "base_uri": "https://localhost:8080/"
        },
        "id": "IifFbLmPkxnr",
        "outputId": "31c87971-5be2-4e75-d82b-42ae9931a09a"
      },
      "execution_count": 67,
      "outputs": [
        {
          "output_type": "stream",
          "name": "stdout",
          "text": [
            "Enter explicit symptoms (comma-separated): Knee pain\n",
            "Disease: Chondromalacia of the patella, Symptom: Knee swelling, Explicit Symptoms: knee pain\n",
            "Disease: Chondromalacia of the patella, Symptom: Elbow pain, Explicit Symptoms: knee pain\n",
            "Disease: Chondromalacia of the patella, Symptom: Leg pain, Explicit Symptoms: knee pain\n",
            "Disease: Chondromalacia of the patella, Symptom: Joint pain, Explicit Symptoms: knee pain\n",
            "Disease: Chondromalacia of the patella, Symptom: Knee weakness, Explicit Symptoms: knee pain\n",
            "Disease: Chondromalacia of the patella, Symptom: Knee stiffness or tightness, Explicit Symptoms: knee pain\n",
            "Disease: Chondromalacia of the patella, Symptom: Problems with movement, Explicit Symptoms: knee pain\n",
            "Disease: Ankylosing spondylitis, Symptom: Back pain, Explicit Symptoms: knee pain\n",
            "Disease: Ankylosing spondylitis, Symptom: Ache all over, Explicit Symptoms: knee pain\n",
            "Disease: Ankylosing spondylitis, Symptom: Elbow pain, Explicit Symptoms: knee pain\n",
            "Disease: Ankylosing spondylitis, Symptom: Leg pain, Explicit Symptoms: knee pain\n",
            "Disease: Ankylosing spondylitis, Symptom: Hip pain, Explicit Symptoms: knee pain\n",
            "Disease: Ankylosing spondylitis, Symptom: Low back pain, Explicit Symptoms: knee pain\n",
            "Disease: Fracture of the pelvis, Symptom: Back pain, Explicit Symptoms: knee pain\n",
            "Disease: Fracture of the pelvis, Symptom: Delusions or hallucinations, Explicit Symptoms: knee pain\n",
            "Disease: Fracture of the pelvis, Symptom: Ache all over, Explicit Symptoms: knee pain\n",
            "Disease: Fracture of the pelvis, Symptom: Leg pain, Explicit Symptoms: knee pain\n",
            "Disease: Fracture of the pelvis, Symptom: Side pain, Explicit Symptoms: knee pain\n",
            "Disease: Fracture of the pelvis, Symptom: Hip pain, Explicit Symptoms: knee pain\n",
            "Disease: Fracture of the pelvis, Symptom: Bones are painful, Explicit Symptoms: knee pain\n",
            "Disease: Fracture of the pelvis, Symptom: Problems with movement, Explicit Symptoms: knee pain\n",
            "Disease: Gout, Symptom: Hand or finger pain, Explicit Symptoms: knee pain\n",
            "Disease: Gout, Symptom: Ankle swelling, Explicit Symptoms: knee pain\n",
            "Disease: Gout, Symptom: Wrist swelling, Explicit Symptoms: knee pain\n",
            "Disease: Gout, Symptom: Foot or toe swelling, Explicit Symptoms: knee pain\n",
            "Disease: Gout, Symptom: Foot or toe pain, Explicit Symptoms: knee pain\n",
            "Disease: Gout, Symptom: Ankle pain, Explicit Symptoms: knee pain\n",
            "Disease: Gout, Symptom: Leg swelling, Explicit Symptoms: knee pain\n",
            "Disease: Flat feet, Symptom: Feet turned in, Explicit Symptoms: knee pain\n",
            "Disease: Flat feet, Symptom: Symptoms of eye, Explicit Symptoms: knee pain\n",
            "Disease: Flat feet, Symptom: Foot or toe pain, Explicit Symptoms: knee pain\n",
            "Disease: Flat feet, Symptom: Ankle pain, Explicit Symptoms: knee pain\n",
            "Disease: Flat feet, Symptom: Cramps and spasms, Explicit Symptoms: knee pain\n",
            "Disease: Flat feet, Symptom: Weight gain, Explicit Symptoms: knee pain\n",
            "Disease: Chronic pain disorder, Symptom: Back pain, Explicit Symptoms: knee pain\n",
            "Disease: Chronic pain disorder, Symptom: Sharp abdominal pain, Explicit Symptoms: knee pain\n",
            "Disease: Chronic pain disorder, Symptom: Ache all over, Explicit Symptoms: knee pain\n",
            "Disease: Chronic pain disorder, Symptom: Leg pain, Explicit Symptoms: knee pain\n",
            "Disease: Chronic pain disorder, Symptom: Neck pain, Explicit Symptoms: knee pain\n",
            "Disease: Chronic pain disorder, Symptom: Pelvic pain, Explicit Symptoms: knee pain\n",
            "Disease: Chronic pain disorder, Symptom: Shoulder pain, Explicit Symptoms: knee pain\n",
            "Disease: Chronic pain disorder, Symptom: Low back pain, Explicit Symptoms: knee pain\n",
            "Disease: Ganglion cyst, Symptom: Wrist pain, Explicit Symptoms: knee pain\n",
            "Disease: Ganglion cyst, Symptom: Leg pain, Explicit Symptoms: knee pain\n",
            "Disease: Ganglion cyst, Symptom: Hand or finger pain, Explicit Symptoms: knee pain\n",
            "Disease: Ganglion cyst, Symptom: Wrist lump or mass, Explicit Symptoms: knee pain\n",
            "Disease: Ganglion cyst, Symptom: Foot or toe pain, Explicit Symptoms: knee pain\n",
            "Disease: Ganglion cyst, Symptom: Hand or finger lump or mass, Explicit Symptoms: knee pain\n",
            "Disease: Ganglion cyst, Symptom: Knee lump or mass, Explicit Symptoms: knee pain\n",
            "Disease: Ganglion cyst, Symptom: Skin growth, Explicit Symptoms: knee pain\n",
            "Disease: Ganglion cyst, Symptom: Leg swelling, Explicit Symptoms: knee pain\n",
            "User Input Symptoms: knee\n"
          ]
        }
      ]
    },
    {
      "cell_type": "code",
      "source": [
        "\n",
        "# Convert the data into a DataFrame\n",
        "data = {\n",
        "    'disease': [],\n",
        "    'symptom': [],\n",
        "    'score': []\n",
        "}\n",
        "\n",
        "for disease, info in disease_data.items():\n",
        "    for symptom, score in info['symptom'].items():\n",
        "        data['disease'].append(disease)\n",
        "        data['symptom'].append(symptom)\n",
        "        data['score'].append(score)\n",
        "\n",
        "df = pd.DataFrame(data)\n",
        "\n",
        "# Function to find and print scores based on input\n",
        "def find_scores(disease_name, symptom_name):\n",
        "    # Find scores based on input\n",
        "    score_df = df[(df['disease'] == disease_name) & (df['symptom'] == symptom_name)]\n",
        "\n",
        "    # Sort scores from highest to lowest\n",
        "    sorted_score_df = score_df.sort_values(by='score', ascending=False)\n",
        "\n",
        "    # Prepare list to store results\n",
        "    results = []\n",
        "\n",
        "    # Append results to the list\n",
        "    if not sorted_score_df.empty:\n",
        "        for idx, row in sorted_score_df.iterrows():\n",
        "            results.append((row['symptom'], row['score']))\n",
        "    else:\n",
        "        results.append((symptom_name, 'No scores found'))\n",
        "\n",
        "    return results\n",
        "\n",
        "# Function to find and print matching implicit symptoms based on explicit symptoms\n",
        "def find_matching_implicit_symptoms(explicit_symptoms):\n",
        "    # Matching implicit symptoms\n",
        "    matching_symptoms = set()\n",
        "\n",
        "    # Check for partial matching implicit symptoms\n",
        "    for item in df.itertuples():\n",
        "        for explicit_symptom in explicit_symptoms:\n",
        "            explicit_words = explicit_symptom.lower().split()\n",
        "            implicit_words = item.symptom.lower().split()\n",
        "            # Check if all explicit words are present in implicit symptom\n",
        "            if all(word in implicit_words for word in explicit_words) and \\\n",
        "               all(word in explicit_words for word in implicit_words):\n",
        "                matching_symptoms.add(item.symptom)\n",
        "\n",
        "    return matching_symptoms\n",
        "\n",
        "# Process each input from the callme memory and store results\n",
        "all_results = []\n",
        "for (disease_name, symptom_name), explicit_symptoms in callme.items():\n",
        "    all_results.extend(find_scores(disease_name, symptom_name))\n",
        "\n",
        "# Sort all results by score in descending order, while handling 'No scores found'\n",
        "all_results.sort(key=lambda x: float(x[1]) if isinstance(x[1], float) else 0, reverse=True)\n",
        "\n",
        "# Filter out results with 'No scores found'\n",
        "filtered_results = [result for result in all_results if result[1] != 'No scores found']\n",
        "\n",
        "# Print only the first 10 results with order number\n",
        "for idx, (symptom, score) in enumerate(filtered_results[:10], start=1):\n",
        "    print(f\"{idx}. {symptom}, {score}\")\n",
        "\n",
        "# Initialize a set to store the matched implicit symptoms\n",
        "matching_implicit_symptoms = set()\n",
        "\n",
        "# Initialize a set to store the matched implicit symptoms\n",
        "matching_implicit_symptoms = set()\n",
        "\n",
        "# Take user input for implicit symptoms\n",
        "implicit_input = input(\"Enter implicit symptoms you have (comma-separated): \")\n",
        "\n",
        "# Split the input into individual implicit symptoms\n",
        "implicit_symptoms = [symptom.strip() for symptom in implicit_input.split(',')]\n",
        "\n",
        "# Find matching implicit symptoms based on user input\n",
        "matching_implicit_symptoms = find_matching_implicit_symptoms(implicit_symptoms)\n",
        "\n",
        "# Check if any matching implicit symptoms are found\n",
        "if matching_implicit_symptoms:\n",
        "    print(\"\\nMatched Implicit Symptoms:\")\n",
        "    for symptom in matching_implicit_symptoms:\n",
        "        print(f\"- {symptom}\")\n",
        "\n",
        "    # Update the combined_symptoms dictionary to include the matched implicit symptoms\n",
        "    if 'Matched Implicit Symptoms' in combined_symptoms:\n",
        "        combined_symptoms['Matched Implicit Symptoms'].update(matching_implicit_symptoms)\n",
        "    else:\n",
        "        combined_symptoms['Matched Implicit Symptoms'] = matching_implicit_symptoms\n",
        "else:\n",
        "    print(\"No matching implicit symptoms found.\")\n",
        "\n"
      ],
      "metadata": {
        "colab": {
          "base_uri": "https://localhost:8080/"
        },
        "id": "sAvSJMI5k9tn",
        "outputId": "6ac531ac-4abc-4ee9-83c9-d4b851b1cd56"
      },
      "execution_count": 72,
      "outputs": [
        {
          "output_type": "stream",
          "name": "stdout",
          "text": [
            "1. Hip pain, 0.82\n",
            "2. Back pain, 0.76\n",
            "3. Foot or toe pain, 0.75\n",
            "4. Back pain, 0.74\n",
            "5. Foot or toe pain, 0.74\n",
            "6. Low back pain, 0.72\n",
            "7. Low back pain, 0.63\n",
            "8. Hip pain, 0.57\n",
            "9. Wrist pain, 0.53\n",
            "10. Leg pain, 0.53\n",
            "Enter implicit symptoms you have (comma-separated): Hip pain\n",
            "\n",
            "Matched Implicit Symptoms:\n",
            "- Hip pain\n"
          ]
        }
      ]
    },
    {
      "cell_type": "code",
      "source": [
        "print(combined_symptoms)"
      ],
      "metadata": {
        "colab": {
          "base_uri": "https://localhost:8080/"
        },
        "id": "T3v3GHaqylX_",
        "outputId": "e2939e08-1885-48fa-9a70-847dfcc004f8"
      },
      "execution_count": 69,
      "outputs": [
        {
          "output_type": "stream",
          "name": "stdout",
          "text": [
            "{'User Input Symptoms': ['knee'], 'Matched Implicit Symptoms': {'Hip pain'}}\n"
          ]
        }
      ]
    },
    {
      "cell_type": "code",
      "source": [
        "import pandas as pd\n",
        "import pickle\n",
        "from google.colab import drive\n",
        "from sklearn.feature_extraction.text import CountVectorizer\n",
        "from sklearn.ensemble import RandomForestClassifier\n",
        "from sklearn.preprocessing import LabelEncoder\n",
        "from collections import Counter\n",
        "\n",
        "# Mount Google Drive\n",
        "drive.mount('/content/drive', force_remount=True)\n",
        "\n",
        "# Load the data from the pickled file\n",
        "file_path = '/content/drive/My Drive/synthetic_dataset/goal_set.p'\n",
        "with open(file_path, 'rb') as file:\n",
        "    consultation_data = pickle.load(file)\n",
        "\n",
        "# Extract explicit and implicit symptoms along with their disease tags\n",
        "disease_tags = []\n",
        "explicit_symptoms_list = []\n",
        "implicit_symptoms_list = []\n",
        "\n",
        "for item in consultation_data['test']:\n",
        "    disease_tags.append(item['disease_tag'])\n",
        "    explicit_symptoms = list(item['goal']['explicit_inform_slots'].keys())\n",
        "    implicit_symptoms = list(item['goal']['implicit_inform_slots'].keys())\n",
        "    explicit_symptoms_list.append(\", \".join(explicit_symptoms))\n",
        "    implicit_symptoms_list.append(\", \".join(implicit_symptoms))\n",
        "\n",
        "# Create DataFrame\n",
        "df = pd.DataFrame({\n",
        "    'Disease Tag': disease_tags,\n",
        "    'Explicit Symptoms': explicit_symptoms_list,\n",
        "    'Implicit Symptoms': implicit_symptoms_list\n",
        "})\n",
        "\n",
        "# Define and train the Random Forest model\n",
        "X = df['Explicit Symptoms'] + \" \" + df['Implicit Symptoms']\n",
        "y = df['Disease Tag']\n",
        "\n",
        "label_encoder = LabelEncoder()\n",
        "y = label_encoder.fit_transform(y)\n",
        "\n",
        "# Vectorize text data\n",
        "vectorizer = CountVectorizer()\n",
        "X_vectorized = vectorizer.fit_transform(X)\n",
        "\n",
        "# Train Random Forest model\n",
        "model = RandomForestClassifier(n_estimators=100, random_state=42)\n",
        "model.fit(X_vectorized, y)\n",
        "\n",
        "# Function to predict diseases based on combined symptoms\n",
        "def predict_diseases(combined_symptoms, top_n=5):\n",
        "    symptoms_vectorized = vectorizer.transform([combined_symptoms])\n",
        "    probas = model.predict_proba(symptoms_vectorized)[0]\n",
        "    top_indices = probas.argsort()[-top_n:][::-1]\n",
        "    predicted_diseases = label_encoder.inverse_transform(top_indices)\n",
        "    return predicted_diseases\n",
        "\n",
        "# Assuming combined_symptoms is a dictionary containing symptoms\n",
        "# For example: combined_symptoms = {'symptoms': ['knee pain', 'fever', 'headache']}\n",
        "combined_symptoms_dict = {'symptoms': ['knee pain']}  # Example\n",
        "\n",
        "# Convert the set of combined symptoms to a single string\n",
        "combined_symptoms_str = \", \".join(combined_symptoms_dict['symptoms']).lower()\n",
        "\n",
        "# Predict top 5 diseases based on combined symptoms\n",
        "top_5_diseases = predict_diseases(combined_symptoms_str)\n",
        "\n",
        "# Count occurrences of each disease prediction\n",
        "disease_counts = Counter(top_5_diseases)\n",
        "\n",
        "# Sort diseases by count in descending order\n",
        "sorted_diseases = sorted(disease_counts.items(), key=lambda x: x[1], reverse=True)\n",
        "\n",
        "# Print the top 5 predicted diseases\n",
        "print(\"Top 5 Predicted Diseases:\")\n",
        "for idx, (disease, count) in enumerate(sorted_diseases[:5], start=1):\n",
        "    print(f\"{idx}. {disease} (Count: {count})\")\n"
      ],
      "metadata": {
        "colab": {
          "base_uri": "https://localhost:8080/"
        },
        "id": "PQKl0qC4zl0-",
        "outputId": "a24b342a-e907-4724-9f51-624f9b0491af"
      },
      "execution_count": 73,
      "outputs": [
        {
          "output_type": "stream",
          "name": "stdout",
          "text": [
            "Mounted at /content/drive\n",
            "Top 5 Predicted Diseases:\n",
            "1. Chondromalacia of the patella (Count: 1)\n",
            "2. Flat feet (Count: 1)\n",
            "3. Ganglion cyst (Count: 1)\n",
            "4. Guillain Barre syndrome (Count: 1)\n",
            "5. Chronic pain disorder (Count: 1)\n"
          ]
        }
      ]
    }
  ]
}